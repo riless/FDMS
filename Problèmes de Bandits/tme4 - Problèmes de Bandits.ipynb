{
 "cells": [
  {
   "cell_type": "markdown",
   "metadata": {},
   "source": [
    "# TME4 - Problèmes de Bandits"
   ]
  },
  {
   "cell_type": "markdown",
   "metadata": {},
   "source": [
    "## Lecture des donnés"
   ]
  },
  {
   "cell_type": "code",
   "execution_count": 106,
   "metadata": {
    "collapsed": true
   },
   "outputs": [],
   "source": [
    "%matplotlib inline\n",
    "\n",
    "import matplotlib.pyplot as plt\n",
    "import numpy as np\n",
    "import csv\n",
    "\n",
    "def read_data():\n",
    "    articles = {}\n",
    "    x = []\n",
    "    y = []\n",
    "    with open( \"CTR.txt\", \"rb\" ) as csvfile:\n",
    "        reader = csv.reader(csvfile, delimiter=':')\n",
    "        for row in reader:\n",
    "            article_repr = row[1].split(\";\") # représentation article en 5 dims\n",
    "            article_click_rate = row[2].split(\";\") # taux de clicks de 10 annonceurs ( reward )\n",
    "            x.append(article_repr)\n",
    "            y.append(article_click_rate)\n",
    "    return np.array(x, dtype=float),np.array(y, dtype=float)\n"
   ]
  },
  {
   "cell_type": "markdown",
   "metadata": {
    "collapsed": false
   },
   "source": [
    "## Calcule du reward et du regret"
   ]
  },
  {
   "cell_type": "code",
   "execution_count": 100,
   "metadata": {
    "collapsed": false
   },
   "outputs": [],
   "source": [
    "def eval(actions, y, methode):\n",
    "    t = actions.shape[0]\n",
    "    regret = np.zeros((t))\n",
    "    reward = np.zeros((t))\n",
    "    for i in xrange(t):\n",
    "        reward[i] = y[i][actions[i]]\n",
    "        regret[i] = y[i].max() - reward[i]\n",
    "    print methode\n",
    "    print \"Mean reward: \", reward.mean()\n",
    "    print \"Mean regret: \", regret.mean()\n",
    "    print \"\"\n",
    "    return reward, regret"
   ]
  },
  {
   "cell_type": "markdown",
   "metadata": {},
   "source": [
    "## Baselines\n",
    "### Stratégie Random\n",
    "Choisir un annonceur aléatoirement "
   ]
  },
  {
   "cell_type": "code",
   "execution_count": 73,
   "metadata": {
    "collapsed": true
   },
   "outputs": [],
   "source": [
    "def random_strategy(y):\n",
    "    return np.random.randint(0, y.shape[1], y.shape[0])"
   ]
  },
  {
   "cell_type": "markdown",
   "metadata": {},
   "source": [
    "### Strategie StaticBest\n",
    "Choisir l'annonceur avec le meilleur taux de clics cumulés"
   ]
  },
  {
   "cell_type": "code",
   "execution_count": 88,
   "metadata": {
    "collapsed": false
   },
   "outputs": [],
   "source": [
    "def staticbest_strategy(y):\n",
    "    return y.cumsum(axis=0).argmax(axis=1)"
   ]
  },
  {
   "cell_type": "markdown",
   "metadata": {},
   "source": [
    "### Stratégie Optimale (triche)\n",
    "A chaque itération, on choisis l'annonceur qui a le meilleur taux de clic à cette itération."
   ]
  },
  {
   "cell_type": "code",
   "execution_count": 74,
   "metadata": {
    "collapsed": true
   },
   "outputs": [],
   "source": [
    "def optimal_strategy(y):\n",
    "    return y.argmax(axis=1)"
   ]
  },
  {
   "cell_type": "markdown",
   "metadata": {},
   "source": [
    "# UCB"
   ]
  },
  {
   "cell_type": "code",
   "execution_count": 75,
   "metadata": {
    "collapsed": true
   },
   "outputs": [],
   "source": [
    "def UCB(y):\n",
    "    y_hat = np.zeros( len(y), dtype=int )\n",
    "    cum   = np.zeros((y.shape[1]))\n",
    "    count = np.ones((y.shape[1]))\n",
    "    mu    = np.zeros((y.shape[1]))\n",
    "    for i in xrange(len(y)):\n",
    "        pred_index         = ( mu + np.sqrt(2 * np.log(i+1) / count) ).argmax()\n",
    "        y_hat[i]           = pred_index\n",
    "        cum[pred_index]   += y[i][pred_index]\n",
    "        count[pred_index] += 1\n",
    "        mu[pred_index]     = cum[pred_index] / count[pred_index]\n",
    "    return y_hat"
   ]
  },
  {
   "cell_type": "markdown",
   "metadata": {},
   "source": [
    " # LinUCB\n",
    "(Slide 39)\n",
    "Développer l'algo linUCB vue en cours, cet algorithme prend en compte le contexte de la décision qui est très utile pour prévoir la variation des taux obsérvés.\n"
   ]
  },
  {
   "cell_type": "code",
   "execution_count": 76,
   "metadata": {
    "collapsed": false
   },
   "outputs": [],
   "source": [
    "import sys\n",
    "\n",
    "def LinUCB(x, y, alpha=0.1):\n",
    "    y_hat = np.zeros(len(x), int)\n",
    "    \n",
    "    A = np.identity(x.shape[1]).reshape(1,x.shape[1],x.shape[1]).repeat(y.shape[1],axis=0)\n",
    "    b = np.zeros((y.shape[1],x.shape[1]))\n",
    "    \n",
    "    theta = np.zeros((y.shape[1],x.shape[1]))\n",
    "    p = np.zeros((y.shape[1]))\n",
    "    \n",
    "    for i in xrange(len(x)): # pour chaque annonce\n",
    "        \n",
    "        for a in xrange(y.shape[1]): # pourchaque annonceur\n",
    "            A_inv = np.linalg.inv(A[a])      # ligne 8\n",
    "            theta[a] = np.dot( A_inv, b[a] ) \n",
    "            p[a] = np.dot(theta[a].T, x[i]) + alpha * np.sqrt(  np.dot(x[i], np.dot(A_inv,x[i]) )) #ligne 9\n",
    "        \n",
    "        argmaxes = np.where(p == p.max())[0] # ligne 11\n",
    "        pred = np.random.choice( argmaxes ) \n",
    "        y_hat[i] = pred                                                          \n",
    "        A[pred] += np.dot(x[i], x[i]) # ligne 12\n",
    "        b[pred] += y[i][pred] * x[i] # ligne 13\n",
    "    return y_hat\n"
   ]
  },
  {
   "cell_type": "markdown",
   "metadata": {},
   "source": [
    "# Test"
   ]
  },
  {
   "cell_type": "code",
   "execution_count": 101,
   "metadata": {
    "collapsed": false
   },
   "outputs": [
    {
     "name": "stdout",
     "output_type": "stream",
     "text": [
      "Random\n",
      "Mean reward:  0.0799602184118\n",
      "Mean regret:  0.226440428735\n",
      "\n",
      "Static Best\n",
      "Mean reward:  0.267979672173\n",
      "Mean regret:  0.0384209749737\n",
      "\n",
      "Optimal\n",
      "Mean reward:  0.306400647147\n",
      "Mean regret:  0.0\n",
      "\n",
      "UCB\n",
      "Mean reward:  0.20141435233\n",
      "Mean regret:  0.104986294817\n",
      "\n",
      "LinUCB\n",
      "Mean reward:  0.257079656836\n",
      "Mean regret:  0.0493209903108\n",
      "\n"
     ]
    }
   ],
   "source": [
    "x,y = read_data()\n",
    "\n",
    "pred_random = random_strategy(y)\n",
    "pred_staticbest = staticbest_strategy(y)\n",
    "pred_optimal = optimal_strategy(y)\n",
    "pred_ucb = UCB(y)\n",
    "pred_linucb = LinUCB(x,y)\n",
    "\n",
    "reward_random, regret_random = eval(pred_random, y, \"Random\")\n",
    "reward_staticbest, regret_staticbest = eval(pred_staticbest, y, \"Static Best\")\n",
    "reward_optimal, regret_optimal = eval(pred_optimal, y, \"Optimal\")\n",
    "reward_ucb, regret_ucb = eval(pred_ucb, y, \"UCB\")\n",
    "reward_linucb, regret_linucb = eval(pred_linucb, y, \"LinUCB\")"
   ]
  },
  {
   "cell_type": "markdown",
   "metadata": {},
   "source": [
    "# Comparaison\n",
    "## Reward"
   ]
  },
  {
   "cell_type": "code",
   "execution_count": 104,
   "metadata": {
    "collapsed": false
   },
   "outputs": [
    {
     "data": {
      "text/plain": [
       "<matplotlib.text.Text at 0x7efe26c55910>"
      ]
     },
     "execution_count": 104,
     "metadata": {},
     "output_type": "execute_result"
    },
    {
     "data": {
      "image/png": "[encoded data removed]",
      "text/plain": [
       "<matplotlib.figure.Figure at 0x7efe266d6d50>"
      ]
     },
     "metadata": {},
     "output_type": "display_data"
    }
   ],
   "source": [
    "t = range(len(x))\n",
    "\n",
    "plt.figure()\n",
    "plt.plot(t, reward_random.cumsum(), label='Random')\n",
    "plt.plot(t, reward_staticbest.cumsum(), label='Static best')\n",
    "plt.plot(t, reward_optimal.cumsum(), label='Optimale')\n",
    "plt.plot(t, reward_ucb.cumsum(), label='UCB')\n",
    "plt.plot(t, reward_linucb.cumsum(), label='LinUCB')\n",
    "plt.legend()\n",
    "plt.title('Rewards')\n",
    "\n"
   ]
  },
  {
   "cell_type": "markdown",
   "metadata": {},
   "source": [
    "## Regret"
   ]
  },
  {
   "cell_type": "code",
   "execution_count": 105,
   "metadata": {
    "collapsed": false
   },
   "outputs": [
    {
     "data": {
      "text/plain": [
       "<matplotlib.text.Text at 0x7efe26948710>"
      ]
     },
     "execution_count": 105,
     "metadata": {},
     "output_type": "execute_result"
    },
    {
     "data": {
      "image/png": "[encoded data removed]",
      "text/plain": [
       "<matplotlib.figure.Figure at 0x7efe26c36310>"
      ]
     },
     "metadata": {},
     "output_type": "display_data"
    }
   ],
   "source": [
    "t = range(len(x))\n",
    "\n",
    "plt.figure()\n",
    "plt.plot(t, regret_random.cumsum(), label='Random')\n",
    "plt.plot(t, regret_staticbest.cumsum(), label='Static best')\n",
    "plt.plot(t, regret_optimal.cumsum(), label='Optimale')\n",
    "plt.plot(t, regret_ucb.cumsum(), label='UCB')\n",
    "plt.plot(t, regret_linucb.cumsum(), label='LinUCB')\n",
    "plt.legend()\n",
    "plt.title('Regrets')"
   ]
  }
 ],
 "metadata": {
  "kernelspec": {
   "display_name": "Python 2",
   "language": "python",
   "name": "python2"
  },
  "language_info": {
   "codemirror_mode": {
    "name": "ipython",
    "version": 2
   },
   "file_extension": ".py",
   "mimetype": "text/x-python",
   "name": "python",
   "nbconvert_exporter": "python",
   "pygments_lexer": "ipython2",
   "version": "2.7.9"
  }
 },
 "nbformat": 4,
 "nbformat_minor": 0
}
